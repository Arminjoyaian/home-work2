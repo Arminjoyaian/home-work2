{
 "cells": [
  {
   "cell_type": "markdown",
   "id": "e26c2fb4",
   "metadata": {},
   "source": [
    "# ex1"
   ]
  },
  {
   "cell_type": "code",
   "execution_count": null,
   "id": "a2e6770e",
   "metadata": {},
   "outputs": [],
   "source": [
    "number = [19 , 20 ,14 ,17 ,18.5 , 19.56 , 13.68 , 18.99 , 16 , 9 ]\n",
    "print(number[::-1])\n",
    "print(sorted(number))\n",
    "print(sorted(number , reverse=True))\n"
   ]
  },
  {
   "cell_type": "markdown",
   "id": "868ac432",
   "metadata": {},
   "source": [
    "# ex2"
   ]
  },
  {
   "cell_type": "code",
   "execution_count": null,
   "id": "4bc23363",
   "metadata": {},
   "outputs": [],
   "source": [
    "list = [1 , 2, 3, 4, 5]\n",
    "a = max(list)\n",
    "b = min(list)\n",
    "print(a ,b )"
   ]
  },
  {
   "cell_type": "markdown",
   "id": "dba64ffb",
   "metadata": {},
   "source": [
    "# ex3"
   ]
  },
  {
   "cell_type": "code",
   "execution_count": null,
   "id": "96ff8d86",
   "metadata": {},
   "outputs": [],
   "source": [
    "\n",
    "str = input(\"enter str :\")\n",
    "string = len(str)\n",
    "print(string)"
   ]
  },
  {
   "cell_type": "markdown",
   "id": "0a09a516",
   "metadata": {},
   "source": [
    "# ex4"
   ]
  },
  {
   "cell_type": "code",
   "execution_count": null,
   "id": "5b6e5083",
   "metadata": {},
   "outputs": [],
   "source": []
  }
 ],
 "metadata": {
  "kernelspec": {
   "display_name": "Python 3 (ipykernel)",
   "language": "python",
   "name": "python3"
  }
 },
 "nbformat": 4,
 "nbformat_minor": 5
}
